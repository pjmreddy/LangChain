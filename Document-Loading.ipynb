{
 "cells": [
  {
   "cell_type": "markdown",
   "id": "462676fd-b4fa-4f80-a81b-5d5f134cde8a",
   "metadata": {},
   "source": [
    "# Imports"
   ]
  },
  {
   "cell_type": "code",
   "execution_count": null,
   "id": "8a5b613b-a00d-434e-8950-97973a72d013",
   "metadata": {},
   "outputs": [],
   "source": [
    "\n",
    "!pip install yt-dlp openai-whisper  # For audio download and parsing\n",
    "!pip install pydub                  # For audio format conversion"
   ]
  },
  {
   "cell_type": "code",
   "execution_count": null,
   "id": "68e3d7e8-42e9-4a24-a731-71f4cbca7706",
   "metadata": {},
   "outputs": [],
   "source": [
    "import os\n",
    "from dotenv import load_dotenv\n",
    "import openai\n",
    "from langchain.document_loaders import PyPDFLoader"
   ]
  },
  {
   "cell_type": "code",
   "execution_count": null,
   "id": "0568bef7-d453-4bbe-a02f-389bc172d050",
   "metadata": {},
   "outputs": [],
   "source": [
    "# loading apikey and intializing openai\n",
    "\n",
    "load_dotenv()\n",
    "openai.api_key = os.getenv(\"OPENAI_API_KEY\")"
   ]
  },
  {
   "cell_type": "markdown",
   "id": "3ef98b97-dcbd-4800-abde-33dfbaab4240",
   "metadata": {},
   "source": [
    "# Loading PDF"
   ]
  },
  {
   "cell_type": "code",
   "execution_count": null,
   "id": "37c557c0-ec90-4d6a-9126-6f456159162e",
   "metadata": {},
   "outputs": [],
   "source": [
    "loader = PyPDFLoader(\"MachineLearning-Lecture01.pdf\")\n",
    "pages = loader.load()"
   ]
  },
  {
   "cell_type": "code",
   "execution_count": null,
   "id": "03b02ceb-75fc-4d37-9a76-fce88c59c6f1",
   "metadata": {},
   "outputs": [],
   "source": [
    "#checking length\n",
    "len(pages)"
   ]
  },
  {
   "cell_type": "code",
   "execution_count": null,
   "id": "5e269959-42f9-4e3b-9d04-b73813e9331c",
   "metadata": {},
   "outputs": [],
   "source": [
    "page = pages[0]\n",
    "print(page.page_content[:500])"
   ]
  },
  {
   "cell_type": "code",
   "execution_count": null,
   "id": "acef6c78-8333-42a7-ba99-eb64a0a14a4f",
   "metadata": {},
   "outputs": [],
   "source": [
    "page.metadata"
   ]
  },
  {
   "cell_type": "markdown",
   "id": "a192c5b3-02fb-4b42-abb2-1b79c35afdc8",
   "metadata": {},
   "source": [
    "# Loading Youtube Videos to documents"
   ]
  },
  {
   "cell_type": "code",
   "execution_count": null,
   "id": "bf671dd9-cbcd-466f-b95a-7c832ece76c9",
   "metadata": {},
   "outputs": [],
   "source": [
    "from langchain.document_loaders.generic import GenericLoader\n",
    "from langchain.document_loaders.parsers import OpenAIWhisperParser\n",
    "from langchain.document_loaders.blob_loaders.youtube_audio import YoutubeAudioLoader\n",
    "from langchain.document_loaders.blob_loaders import FileSystemBlobLoader"
   ]
  },
  {
   "cell_type": "code",
   "execution_count": null,
   "id": "5a762324-563f-43c2-a114-a718c549a18c",
   "metadata": {},
   "outputs": [],
   "source": [
    "url = \"https://www.youtube.com/watch?v=jGwO_UgTS7I\"\n",
    "save_dir = \"./\"\n",
    "\n",
    "# Step 1: Download the audio\n",
    "yt_loader = YoutubeAudioLoader([url], save_dir)\n",
    "  # This saves the audio file(s) to save_dir\n",
    "\n",
    "# Step 2: Load from filesystem and parse\n",
    "loader = GenericLoader(\n",
    "    yt_loader, \n",
    "    OpenAIWhisperParser()                  \n",
    ")\n",
    "\n",
    "docs = loader.load()"
   ]
  },
  {
   "cell_type": "code",
   "execution_count": null,
   "id": "7f277791-53a4-48d6-9d68-5136bd3d5e01",
   "metadata": {},
   "outputs": [],
   "source": [
    "docs[0].page_content[0:50]"
   ]
  },
  {
   "cell_type": "markdown",
   "id": "db59c215-0017-4cb0-8cc9-d70fc3f75405",
   "metadata": {},
   "source": [
    "# URLs from internet"
   ]
  },
  {
   "cell_type": "code",
   "execution_count": null,
   "id": "7513914a-3762-4ace-9ee9-867623609842",
   "metadata": {},
   "outputs": [],
   "source": [
    "from langchain.document_loaders import WebBaseLoader\n",
    "\n",
    "loader = WebBaseLoader(\"https://github.com/basecamp/handbook/blob/master/titles-for-programmers.md\")\n",
    "docs = loader.load()"
   ]
  },
  {
   "cell_type": "code",
   "execution_count": null,
   "id": "e98df715-7c12-41db-850f-c60d52154607",
   "metadata": {},
   "outputs": [],
   "source": [
    "print(docs[0].page_content[:500])"
   ]
  },
  {
   "cell_type": "markdown",
   "id": "5a5bdb71-3b92-42fc-8da2-b6ff3e1ef5c3",
   "metadata": {},
   "source": [
    "# NOTION"
   ]
  },
  {
   "cell_type": "code",
   "execution_count": null,
   "id": "f82986c7-c897-4e90-ae86-9b6356485f51",
   "metadata": {},
   "outputs": [],
   "source": [
    "from langchain.document_loaders import NotionDirectoryLoader\n",
    "loader = NotionDirectoryLoader(\"docs/Notion_DB\")\n",
    "docs = loader.load()"
   ]
  },
  {
   "cell_type": "code",
   "execution_count": null,
   "id": "63e28be7-b0e1-459b-88a7-7c46ad6e5034",
   "metadata": {},
   "outputs": [],
   "source": [
    "print(docs[0].page_content[0:200])"
   ]
  },
  {
   "cell_type": "code",
   "execution_count": null,
   "id": "5328c057-4ab9-4c10-82fe-489791976e57",
   "metadata": {},
   "outputs": [],
   "source": [
    "docs[0].metadata"
   ]
  }
 ],
 "metadata": {
  "kernelspec": {
   "display_name": "Python 3 (ipykernel)",
   "language": "python",
   "name": "python3"
  },
  "language_info": {
   "codemirror_mode": {
    "name": "ipython",
    "version": 3
   },
   "file_extension": ".py",
   "mimetype": "text/x-python",
   "name": "python",
   "nbconvert_exporter": "python",
   "pygments_lexer": "ipython3",
   "version": "3.11.11"
  }
 },
 "nbformat": 4,
 "nbformat_minor": 5
}
